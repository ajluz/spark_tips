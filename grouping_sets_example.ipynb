{
 "cells": [
  {
   "cell_type": "code",
   "execution_count": 0,
   "metadata": {
    "application/vnd.databricks.v1+cell": {
     "cellMetadata": {
      "byteLimit": 2048000,
      "implicitDf": true,
      "rowLimit": 10000
     },
     "inputWidgets": {},
     "nuid": "e8691079-0dbd-4c08-b71e-ac614e7cbd99",
     "showTitle": false,
     "tableResultSettingsMap": {},
     "title": ""
    }
   },
   "outputs": [],
   "source": [
    "%sql\n",
    "CREATE OR REPLACE TEMP VIEW sales AS\n",
    "SELECT date, category, product, store, revenue FROM (\n",
    "  SELECT * FROM VALUES\n",
    "    ('2024-03-01', 'Eletrônicos', 'TV', 'Loja A', 1000),\n",
    "    ('2024-03-01', 'Eletrônicos', 'Celular', 'Loja B', 800),\n",
    "    ('2024-03-02', 'Eletrodomésticos', 'Geladeira', 'Loja A', 1500),\n",
    "    ('2024-03-02', 'Eletrônicos', 'Notebook', 'Loja C', 2000),\n",
    "    ('2024-03-03', 'Móveis', 'Sofá', 'Loja B', 1200),\n",
    "    ('2024-03-03', 'Eletrônicos', 'TV', 'Loja A', 1100),\n",
    "    ('2024-03-04', 'Eletrodomésticos', 'Fogão', 'Loja C', 900),\n",
    "    ('2024-03-04', 'Móveis', 'Mesa', 'Loja A', 700),\n",
    "    ('2024-03-05', 'Eletrônicos', 'Smartwatch', 'Loja B', 500),\n",
    "    ('2024-03-05', 'Eletrodomésticos', 'Microondas', 'Loja C', 850),\n",
    "    ('2024-03-06', 'Móveis', 'Cadeira', 'Loja A', 450)\n",
    ") AS sales(date, category, product, store, revenue)\n",
    "\n",
    "UNION ALL\n",
    "\n",
    "SELECT date, category, product, store, revenue FROM (\n",
    "  SELECT date_add('2024-03-01', CAST(rand() * 60 AS INT)) AS date,\n",
    "         CASE WHEN rand() > 0.5 THEN 'Eletrônicos' ELSE 'Eletrodomésticos' END AS category,\n",
    "         CASE WHEN rand() > 0.5 THEN 'TV' ELSE 'Celular' END AS product,\n",
    "         CASE WHEN rand() > 0.5 THEN 'Loja A' ELSE 'Loja B' END AS store,\n",
    "         CAST(rand() * 5000 AS INT) AS revenue\n",
    "  FROM range(100000000) \n",
    ") AS generated_data;\n",
    "\n",
    "CREATE TABLE default.sales \n",
    "AS SELECT * FROM sales;"
   ]
  },
  {
   "cell_type": "code",
   "execution_count": 0,
   "metadata": {
    "application/vnd.databricks.v1+cell": {
     "cellMetadata": {
      "byteLimit": 2048000,
      "implicitDf": true,
      "rowLimit": 10000
     },
     "inputWidgets": {},
     "nuid": "b6beea43-afd8-401a-be8a-0923fc82febd",
     "showTitle": false,
     "tableResultSettingsMap": {},
     "title": ""
    }
   },
   "outputs": [],
   "source": [
    "%sql\n",
    "SELECT \n",
    "    category,\n",
    "    product,\n",
    "    SUM(revenue) AS total_revenue\n",
    "FROM default.sales \n",
    "GROUP BY category, product\n",
    "\n",
    "UNION ALL\n",
    "\n",
    "SELECT \n",
    "    category,\n",
    "    CAST(NULL AS STRING) AS product,\n",
    "    SUM(revenue) AS total_revenue\n",
    "FROM default.sales \n",
    "GROUP BY category\n",
    "\n",
    "UNION ALL\n",
    "\n",
    "SELECT \n",
    "    CAST(NULL AS STRING) AS category,\n",
    "    CAST(NULL AS STRING) AS product,\n",
    "    SUM(revenue) AS total_revenue\n",
    "FROM default.sales \n",
    "ORDER BY category, product;\n"
   ]
  },
  {
   "cell_type": "code",
   "execution_count": 0,
   "metadata": {
    "application/vnd.databricks.v1+cell": {
     "cellMetadata": {
      "byteLimit": 2048000,
      "implicitDf": true,
      "rowLimit": 10000
     },
     "inputWidgets": {},
     "nuid": "99be1e50-d32d-4c18-8123-dd7c3b55fb08",
     "showTitle": false,
     "tableResultSettingsMap": {},
     "title": ""
    }
   },
   "outputs": [],
   "source": [
    "%sql\n",
    "SELECT \n",
    "    category,\n",
    "    product,\n",
    "    SUM(revenue) AS total_revenue\n",
    "FROM sales\n",
    "GROUP BY GROUPING SETS (\n",
    "    (category, product),\n",
    "    (category),\n",
    "    ()\n",
    ")\n",
    "ORDER BY category, product;"
   ]
  }
 ],
 "metadata": {
  "application/vnd.databricks.v1+notebook": {
   "computePreferences": null,
   "dashboards": [],
   "environmentMetadata": {
    "base_environment": "",
    "environment_version": "2"
   },
   "language": "python",
   "notebookMetadata": {
    "mostRecentlyExecutedCommandWithImplicitDF": {
     "commandId": 818723820454318,
     "dataframes": [
      "_sqldf"
     ]
    },
    "pythonIndentUnit": 4
   },
   "notebookName": "grouping_sets_example",
   "widgets": {}
  },
  "language_info": {
   "name": "python"
  }
 },
 "nbformat": 4,
 "nbformat_minor": 0
}
