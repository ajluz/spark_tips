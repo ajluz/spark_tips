{
 "cells": [
  {
   "cell_type": "code",
   "execution_count": 0,
   "metadata": {
    "application/vnd.databricks.v1+cell": {
     "cellMetadata": {
      "byteLimit": 2048000,
      "rowLimit": 10000
     },
     "inputWidgets": {},
     "nuid": "417c2a2f-f38f-468b-b35a-b9e961bd82cf",
     "showTitle": false,
     "tableResultSettingsMap": {},
     "title": ""
    }
   },
   "outputs": [],
   "source": [
    "%python\n",
    "# Create the dataframe and convert it to be used on SQL \n",
    "\n",
    "from pyspark.sql.types import StructType, StructField, StringType\n",
    "\n",
    "json_data = [\n",
    "    ('{\"event_id\":\"12345\",\"user\": {\"id\":\"001\",\"name\":\"Arthur Luz\"},\"items\": [{\"product_id\":\"A1\",\"quantity\": 2}, {\"product_id\":\"B2\",\"quantity\": 5}] }',),\n",
    "    ('{\"event_id\":\"67890\",\"user\": {\"id\":\"002\",\"name\":\"Carlos Souza\"},\"items\": [{\"product_id\":\"C3\",\"quantity\": 1}, {\"product_id\":\"D4\",\"quantity\": 4}] }',)\n",
    "]\n",
    "\n",
    "schema = StructType([\n",
    "    StructField(\"body\", StringType(), True)\n",
    "])\n",
    "\n",
    "df_raw = spark.createDataFrame(json_data, schema)\n",
    "df_raw.createOrReplaceTempView('raw_data')"
   ]
  },
  {
   "cell_type": "code",
   "execution_count": 0,
   "metadata": {
    "application/vnd.databricks.v1+cell": {
     "cellMetadata": {
      "byteLimit": 2048000,
      "rowLimit": 10000
     },
     "inputWidgets": {},
     "nuid": "6facadc3-23f8-43e8-9be3-854f1a8ee8d4",
     "showTitle": false,
     "tableResultSettingsMap": {},
     "title": ""
    }
   },
   "outputs": [],
   "source": [
    "-- Passing the schema manually\n",
    "DECLARE OR REPLACE schema_from_column = 'STRUCT<event_id: STRING, user: STRUCT<id:STRING, name: STRING>, items: ARRAY<STRUCT<product_id: STRING, quantity: BIGINT>> >';\n",
    "\n",
    "SELECT \n",
    "    FROM_JSON(\n",
    "      body, \n",
    "      schema_from_column\n",
    "    ) AS body_dict\n",
    "FROM raw_data"
   ]
  },
  {
   "cell_type": "code",
   "execution_count": 0,
   "metadata": {
    "application/vnd.databricks.v1+cell": {
     "cellMetadata": {
      "byteLimit": 2048000,
      "rowLimit": 10000
     },
     "inputWidgets": {},
     "nuid": "c362fc0a-8b5e-4b84-8189-18d76dd57281",
     "showTitle": false,
     "tableResultSettingsMap": {},
     "title": ""
    }
   },
   "outputs": [],
   "source": [
    "-- Getting the schema dynamically\n",
    "DECLARE OR REPLACE schema_from_column STRING;\n",
    "SET VARIABLE schema_from_col = (\n",
    "  SELECT DISTINCT\n",
    "      SCHEMA_OF_JSON_AGG(body) AS schema_from_column\n",
    "  FROM raw_data\n",
    ");\n",
    "\n",
    "SELECT \n",
    "    FROM_JSON(\n",
    "      body, \n",
    "      schema_from_column\n",
    "    ) AS body_dict\n",
    "FROM raw_data"
   ]
  }
 ],
 "metadata": {
  "application/vnd.databricks.v1+notebook": {
   "computePreferences": null,
   "dashboards": [],
   "environmentMetadata": {
    "base_environment": "",
    "environment_version": "2"
   },
   "language": "sql",
   "notebookMetadata": {
    "pythonIndentUnit": 4
   },
   "notebookName": "dynamically_extract_schema_from_json_string",
   "widgets": {}
  },
  "language_info": {
   "name": "sql"
  }
 },
 "nbformat": 4,
 "nbformat_minor": 0
}
